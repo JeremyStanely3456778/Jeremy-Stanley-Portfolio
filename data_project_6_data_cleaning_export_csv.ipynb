{
  "nbformat": 4,
  "nbformat_minor": 0,
  "metadata": {
    "colab": {
      "name": "data_project_6_data_cleaning_export_csv.ipynb",
      "provenance": [],
      "collapsed_sections": []
    },
    "kernelspec": {
      "name": "python3",
      "display_name": "Python 3"
    },
    "language_info": {
      "name": "python"
    }
  },
  "cells": [
    {
      "cell_type": "markdown",
      "source": [
        "Install needed dependencies"
      ],
      "metadata": {
        "id": "2QZB1Rv0H_9d"
      }
    },
    {
      "cell_type": "markdown",
      "source": [
        "\n",
        "Imported Dependencies for Analysis\n"
      ],
      "metadata": {
        "id": "8lD4SFtyGwk_"
      }
    },
    {
      "cell_type": "markdown",
      "source": [
        "1. Import all required libraries"
      ],
      "metadata": {
        "id": "iWlLIJsOCpdD"
      }
    },
    {
      "cell_type": "code",
      "execution_count": 1,
      "metadata": {
        "id": "_D3B2mUO_us3"
      },
      "outputs": [],
      "source": [
        "#imports\n",
        "import pandas as pd\n",
        "import numpy as np\n",
        "\n"
      ]
    },
    {
      "cell_type": "markdown",
      "source": [
        "2. Read the csv file"
      ],
      "metadata": {
        "id": "r0CUwdc3CvTH"
      }
    },
    {
      "cell_type": "code",
      "source": [
        "df = pd.read_csv('/content/amazon.csv')\n",
        "df.head()"
      ],
      "metadata": {
        "colab": {
          "base_uri": "https://localhost:8080/",
          "height": 206
        },
        "id": "5HDRgT7HAgwJ",
        "outputId": "4ea27719-a352-400d-e451-919161b8aace"
      },
      "execution_count": 2,
      "outputs": [
        {
          "output_type": "execute_result",
          "data": {
            "text/plain": [
              "   year state    month  number        date\n",
              "0  1998  Acre  Janeiro     0.0  1998-01-01\n",
              "1  1999  Acre  Janeiro     0.0  1999-01-01\n",
              "2  2000  Acre  Janeiro     0.0  2000-01-01\n",
              "3  2001  Acre  Janeiro     0.0  2001-01-01\n",
              "4  2002  Acre  Janeiro     0.0  2002-01-01"
            ],
            "text/html": [
              "\n",
              "  <div id=\"df-e2f2c4af-cdab-4ee7-98dc-db8049ddfa72\">\n",
              "    <div class=\"colab-df-container\">\n",
              "      <div>\n",
              "<style scoped>\n",
              "    .dataframe tbody tr th:only-of-type {\n",
              "        vertical-align: middle;\n",
              "    }\n",
              "\n",
              "    .dataframe tbody tr th {\n",
              "        vertical-align: top;\n",
              "    }\n",
              "\n",
              "    .dataframe thead th {\n",
              "        text-align: right;\n",
              "    }\n",
              "</style>\n",
              "<table border=\"1\" class=\"dataframe\">\n",
              "  <thead>\n",
              "    <tr style=\"text-align: right;\">\n",
              "      <th></th>\n",
              "      <th>year</th>\n",
              "      <th>state</th>\n",
              "      <th>month</th>\n",
              "      <th>number</th>\n",
              "      <th>date</th>\n",
              "    </tr>\n",
              "  </thead>\n",
              "  <tbody>\n",
              "    <tr>\n",
              "      <th>0</th>\n",
              "      <td>1998</td>\n",
              "      <td>Acre</td>\n",
              "      <td>Janeiro</td>\n",
              "      <td>0.0</td>\n",
              "      <td>1998-01-01</td>\n",
              "    </tr>\n",
              "    <tr>\n",
              "      <th>1</th>\n",
              "      <td>1999</td>\n",
              "      <td>Acre</td>\n",
              "      <td>Janeiro</td>\n",
              "      <td>0.0</td>\n",
              "      <td>1999-01-01</td>\n",
              "    </tr>\n",
              "    <tr>\n",
              "      <th>2</th>\n",
              "      <td>2000</td>\n",
              "      <td>Acre</td>\n",
              "      <td>Janeiro</td>\n",
              "      <td>0.0</td>\n",
              "      <td>2000-01-01</td>\n",
              "    </tr>\n",
              "    <tr>\n",
              "      <th>3</th>\n",
              "      <td>2001</td>\n",
              "      <td>Acre</td>\n",
              "      <td>Janeiro</td>\n",
              "      <td>0.0</td>\n",
              "      <td>2001-01-01</td>\n",
              "    </tr>\n",
              "    <tr>\n",
              "      <th>4</th>\n",
              "      <td>2002</td>\n",
              "      <td>Acre</td>\n",
              "      <td>Janeiro</td>\n",
              "      <td>0.0</td>\n",
              "      <td>2002-01-01</td>\n",
              "    </tr>\n",
              "  </tbody>\n",
              "</table>\n",
              "</div>\n",
              "      <button class=\"colab-df-convert\" onclick=\"convertToInteractive('df-e2f2c4af-cdab-4ee7-98dc-db8049ddfa72')\"\n",
              "              title=\"Convert this dataframe to an interactive table.\"\n",
              "              style=\"display:none;\">\n",
              "        \n",
              "  <svg xmlns=\"http://www.w3.org/2000/svg\" height=\"24px\"viewBox=\"0 0 24 24\"\n",
              "       width=\"24px\">\n",
              "    <path d=\"M0 0h24v24H0V0z\" fill=\"none\"/>\n",
              "    <path d=\"M18.56 5.44l.94 2.06.94-2.06 2.06-.94-2.06-.94-.94-2.06-.94 2.06-2.06.94zm-11 1L8.5 8.5l.94-2.06 2.06-.94-2.06-.94L8.5 2.5l-.94 2.06-2.06.94zm10 10l.94 2.06.94-2.06 2.06-.94-2.06-.94-.94-2.06-.94 2.06-2.06.94z\"/><path d=\"M17.41 7.96l-1.37-1.37c-.4-.4-.92-.59-1.43-.59-.52 0-1.04.2-1.43.59L10.3 9.45l-7.72 7.72c-.78.78-.78 2.05 0 2.83L4 21.41c.39.39.9.59 1.41.59.51 0 1.02-.2 1.41-.59l7.78-7.78 2.81-2.81c.8-.78.8-2.07 0-2.86zM5.41 20L4 18.59l7.72-7.72 1.47 1.35L5.41 20z\"/>\n",
              "  </svg>\n",
              "      </button>\n",
              "      \n",
              "  <style>\n",
              "    .colab-df-container {\n",
              "      display:flex;\n",
              "      flex-wrap:wrap;\n",
              "      gap: 12px;\n",
              "    }\n",
              "\n",
              "    .colab-df-convert {\n",
              "      background-color: #E8F0FE;\n",
              "      border: none;\n",
              "      border-radius: 50%;\n",
              "      cursor: pointer;\n",
              "      display: none;\n",
              "      fill: #1967D2;\n",
              "      height: 32px;\n",
              "      padding: 0 0 0 0;\n",
              "      width: 32px;\n",
              "    }\n",
              "\n",
              "    .colab-df-convert:hover {\n",
              "      background-color: #E2EBFA;\n",
              "      box-shadow: 0px 1px 2px rgba(60, 64, 67, 0.3), 0px 1px 3px 1px rgba(60, 64, 67, 0.15);\n",
              "      fill: #174EA6;\n",
              "    }\n",
              "\n",
              "    [theme=dark] .colab-df-convert {\n",
              "      background-color: #3B4455;\n",
              "      fill: #D2E3FC;\n",
              "    }\n",
              "\n",
              "    [theme=dark] .colab-df-convert:hover {\n",
              "      background-color: #434B5C;\n",
              "      box-shadow: 0px 1px 3px 1px rgba(0, 0, 0, 0.15);\n",
              "      filter: drop-shadow(0px 1px 2px rgba(0, 0, 0, 0.3));\n",
              "      fill: #FFFFFF;\n",
              "    }\n",
              "  </style>\n",
              "\n",
              "      <script>\n",
              "        const buttonEl =\n",
              "          document.querySelector('#df-e2f2c4af-cdab-4ee7-98dc-db8049ddfa72 button.colab-df-convert');\n",
              "        buttonEl.style.display =\n",
              "          google.colab.kernel.accessAllowed ? 'block' : 'none';\n",
              "\n",
              "        async function convertToInteractive(key) {\n",
              "          const element = document.querySelector('#df-e2f2c4af-cdab-4ee7-98dc-db8049ddfa72');\n",
              "          const dataTable =\n",
              "            await google.colab.kernel.invokeFunction('convertToInteractive',\n",
              "                                                     [key], {});\n",
              "          if (!dataTable) return;\n",
              "\n",
              "          const docLinkHtml = 'Like what you see? Visit the ' +\n",
              "            '<a target=\"_blank\" href=https://colab.research.google.com/notebooks/data_table.ipynb>data table notebook</a>'\n",
              "            + ' to learn more about interactive tables.';\n",
              "          element.innerHTML = '';\n",
              "          dataTable['output_type'] = 'display_data';\n",
              "          await google.colab.output.renderOutput(dataTable, element);\n",
              "          const docLink = document.createElement('div');\n",
              "          docLink.innerHTML = docLinkHtml;\n",
              "          element.appendChild(docLink);\n",
              "        }\n",
              "      </script>\n",
              "    </div>\n",
              "  </div>\n",
              "  "
            ]
          },
          "metadata": {},
          "execution_count": 2
        }
      ]
    },
    {
      "cell_type": "markdown",
      "source": [
        "3. Check data type of each column"
      ],
      "metadata": {
        "id": "eFwmU7Z3CrDZ"
      }
    },
    {
      "cell_type": "code",
      "source": [
        "df.info()"
      ],
      "metadata": {
        "colab": {
          "base_uri": "https://localhost:8080/"
        },
        "id": "NikbOCYSBrbk",
        "outputId": "5cd2b90a-4ea1-4073-d289-ee0a240f935c"
      },
      "execution_count": 3,
      "outputs": [
        {
          "output_type": "stream",
          "name": "stdout",
          "text": [
            "<class 'pandas.core.frame.DataFrame'>\n",
            "RangeIndex: 6454 entries, 0 to 6453\n",
            "Data columns (total 5 columns):\n",
            " #   Column  Non-Null Count  Dtype  \n",
            "---  ------  --------------  -----  \n",
            " 0   year    6454 non-null   int64  \n",
            " 1   state   6454 non-null   object \n",
            " 2   month   6454 non-null   object \n",
            " 3   number  6454 non-null   float64\n",
            " 4   date    6454 non-null   object \n",
            "dtypes: float64(1), int64(1), object(3)\n",
            "memory usage: 252.2+ KB\n"
          ]
        }
      ]
    },
    {
      "cell_type": "markdown",
      "source": [
        "As you can see data column is of type object."
      ],
      "metadata": {
        "id": "8JWu53jOC1W6"
      }
    },
    {
      "cell_type": "code",
      "source": [
        "#convert date column from object to datetime\n",
        "df['date'] = pd.to_datetime(df['date'])"
      ],
      "metadata": {
        "id": "fvhwom1_CJuS"
      },
      "execution_count": 4,
      "outputs": []
    },
    {
      "cell_type": "code",
      "source": [
        "#confirmation\n",
        "df.info()"
      ],
      "metadata": {
        "colab": {
          "base_uri": "https://localhost:8080/"
        },
        "id": "gOSZYdYtDK5a",
        "outputId": "54f7cdd7-97d7-48c8-e733-d7412d4d8f55"
      },
      "execution_count": 5,
      "outputs": [
        {
          "output_type": "stream",
          "name": "stdout",
          "text": [
            "<class 'pandas.core.frame.DataFrame'>\n",
            "RangeIndex: 6454 entries, 0 to 6453\n",
            "Data columns (total 5 columns):\n",
            " #   Column  Non-Null Count  Dtype         \n",
            "---  ------  --------------  -----         \n",
            " 0   year    6454 non-null   int64         \n",
            " 1   state   6454 non-null   object        \n",
            " 2   month   6454 non-null   object        \n",
            " 3   number  6454 non-null   float64       \n",
            " 4   date    6454 non-null   datetime64[ns]\n",
            "dtypes: datetime64[ns](1), float64(1), int64(1), object(2)\n",
            "memory usage: 252.2+ KB\n"
          ]
        }
      ]
    },
    {
      "cell_type": "markdown",
      "source": [
        "Display top 5 rows of the dataset."
      ],
      "metadata": {
        "id": "33fU-v96DdlQ"
      }
    },
    {
      "cell_type": "code",
      "source": [
        "df.head()"
      ],
      "metadata": {
        "colab": {
          "base_uri": "https://localhost:8080/",
          "height": 206
        },
        "id": "K2O6kL1wDelQ",
        "outputId": "865aae58-78bd-4069-ebf9-397d33091ebf"
      },
      "execution_count": 6,
      "outputs": [
        {
          "output_type": "execute_result",
          "data": {
            "text/plain": [
              "   year state    month  number       date\n",
              "0  1998  Acre  Janeiro     0.0 1998-01-01\n",
              "1  1999  Acre  Janeiro     0.0 1999-01-01\n",
              "2  2000  Acre  Janeiro     0.0 2000-01-01\n",
              "3  2001  Acre  Janeiro     0.0 2001-01-01\n",
              "4  2002  Acre  Janeiro     0.0 2002-01-01"
            ],
            "text/html": [
              "\n",
              "  <div id=\"df-12fe67d7-1060-4816-9db4-95fb4a77a0c9\">\n",
              "    <div class=\"colab-df-container\">\n",
              "      <div>\n",
              "<style scoped>\n",
              "    .dataframe tbody tr th:only-of-type {\n",
              "        vertical-align: middle;\n",
              "    }\n",
              "\n",
              "    .dataframe tbody tr th {\n",
              "        vertical-align: top;\n",
              "    }\n",
              "\n",
              "    .dataframe thead th {\n",
              "        text-align: right;\n",
              "    }\n",
              "</style>\n",
              "<table border=\"1\" class=\"dataframe\">\n",
              "  <thead>\n",
              "    <tr style=\"text-align: right;\">\n",
              "      <th></th>\n",
              "      <th>year</th>\n",
              "      <th>state</th>\n",
              "      <th>month</th>\n",
              "      <th>number</th>\n",
              "      <th>date</th>\n",
              "    </tr>\n",
              "  </thead>\n",
              "  <tbody>\n",
              "    <tr>\n",
              "      <th>0</th>\n",
              "      <td>1998</td>\n",
              "      <td>Acre</td>\n",
              "      <td>Janeiro</td>\n",
              "      <td>0.0</td>\n",
              "      <td>1998-01-01</td>\n",
              "    </tr>\n",
              "    <tr>\n",
              "      <th>1</th>\n",
              "      <td>1999</td>\n",
              "      <td>Acre</td>\n",
              "      <td>Janeiro</td>\n",
              "      <td>0.0</td>\n",
              "      <td>1999-01-01</td>\n",
              "    </tr>\n",
              "    <tr>\n",
              "      <th>2</th>\n",
              "      <td>2000</td>\n",
              "      <td>Acre</td>\n",
              "      <td>Janeiro</td>\n",
              "      <td>0.0</td>\n",
              "      <td>2000-01-01</td>\n",
              "    </tr>\n",
              "    <tr>\n",
              "      <th>3</th>\n",
              "      <td>2001</td>\n",
              "      <td>Acre</td>\n",
              "      <td>Janeiro</td>\n",
              "      <td>0.0</td>\n",
              "      <td>2001-01-01</td>\n",
              "    </tr>\n",
              "    <tr>\n",
              "      <th>4</th>\n",
              "      <td>2002</td>\n",
              "      <td>Acre</td>\n",
              "      <td>Janeiro</td>\n",
              "      <td>0.0</td>\n",
              "      <td>2002-01-01</td>\n",
              "    </tr>\n",
              "  </tbody>\n",
              "</table>\n",
              "</div>\n",
              "      <button class=\"colab-df-convert\" onclick=\"convertToInteractive('df-12fe67d7-1060-4816-9db4-95fb4a77a0c9')\"\n",
              "              title=\"Convert this dataframe to an interactive table.\"\n",
              "              style=\"display:none;\">\n",
              "        \n",
              "  <svg xmlns=\"http://www.w3.org/2000/svg\" height=\"24px\"viewBox=\"0 0 24 24\"\n",
              "       width=\"24px\">\n",
              "    <path d=\"M0 0h24v24H0V0z\" fill=\"none\"/>\n",
              "    <path d=\"M18.56 5.44l.94 2.06.94-2.06 2.06-.94-2.06-.94-.94-2.06-.94 2.06-2.06.94zm-11 1L8.5 8.5l.94-2.06 2.06-.94-2.06-.94L8.5 2.5l-.94 2.06-2.06.94zm10 10l.94 2.06.94-2.06 2.06-.94-2.06-.94-.94-2.06-.94 2.06-2.06.94z\"/><path d=\"M17.41 7.96l-1.37-1.37c-.4-.4-.92-.59-1.43-.59-.52 0-1.04.2-1.43.59L10.3 9.45l-7.72 7.72c-.78.78-.78 2.05 0 2.83L4 21.41c.39.39.9.59 1.41.59.51 0 1.02-.2 1.41-.59l7.78-7.78 2.81-2.81c.8-.78.8-2.07 0-2.86zM5.41 20L4 18.59l7.72-7.72 1.47 1.35L5.41 20z\"/>\n",
              "  </svg>\n",
              "      </button>\n",
              "      \n",
              "  <style>\n",
              "    .colab-df-container {\n",
              "      display:flex;\n",
              "      flex-wrap:wrap;\n",
              "      gap: 12px;\n",
              "    }\n",
              "\n",
              "    .colab-df-convert {\n",
              "      background-color: #E8F0FE;\n",
              "      border: none;\n",
              "      border-radius: 50%;\n",
              "      cursor: pointer;\n",
              "      display: none;\n",
              "      fill: #1967D2;\n",
              "      height: 32px;\n",
              "      padding: 0 0 0 0;\n",
              "      width: 32px;\n",
              "    }\n",
              "\n",
              "    .colab-df-convert:hover {\n",
              "      background-color: #E2EBFA;\n",
              "      box-shadow: 0px 1px 2px rgba(60, 64, 67, 0.3), 0px 1px 3px 1px rgba(60, 64, 67, 0.15);\n",
              "      fill: #174EA6;\n",
              "    }\n",
              "\n",
              "    [theme=dark] .colab-df-convert {\n",
              "      background-color: #3B4455;\n",
              "      fill: #D2E3FC;\n",
              "    }\n",
              "\n",
              "    [theme=dark] .colab-df-convert:hover {\n",
              "      background-color: #434B5C;\n",
              "      box-shadow: 0px 1px 3px 1px rgba(0, 0, 0, 0.15);\n",
              "      filter: drop-shadow(0px 1px 2px rgba(0, 0, 0, 0.3));\n",
              "      fill: #FFFFFF;\n",
              "    }\n",
              "  </style>\n",
              "\n",
              "      <script>\n",
              "        const buttonEl =\n",
              "          document.querySelector('#df-12fe67d7-1060-4816-9db4-95fb4a77a0c9 button.colab-df-convert');\n",
              "        buttonEl.style.display =\n",
              "          google.colab.kernel.accessAllowed ? 'block' : 'none';\n",
              "\n",
              "        async function convertToInteractive(key) {\n",
              "          const element = document.querySelector('#df-12fe67d7-1060-4816-9db4-95fb4a77a0c9');\n",
              "          const dataTable =\n",
              "            await google.colab.kernel.invokeFunction('convertToInteractive',\n",
              "                                                     [key], {});\n",
              "          if (!dataTable) return;\n",
              "\n",
              "          const docLinkHtml = 'Like what you see? Visit the ' +\n",
              "            '<a target=\"_blank\" href=https://colab.research.google.com/notebooks/data_table.ipynb>data table notebook</a>'\n",
              "            + ' to learn more about interactive tables.';\n",
              "          element.innerHTML = '';\n",
              "          dataTable['output_type'] = 'display_data';\n",
              "          await google.colab.output.renderOutput(dataTable, element);\n",
              "          const docLink = document.createElement('div');\n",
              "          docLink.innerHTML = docLinkHtml;\n",
              "          element.appendChild(docLink);\n",
              "        }\n",
              "      </script>\n",
              "    </div>\n",
              "  </div>\n",
              "  "
            ]
          },
          "metadata": {},
          "execution_count": 6
        }
      ]
    },
    {
      "cell_type": "markdown",
      "source": [
        "Check last 5 rows."
      ],
      "metadata": {
        "id": "L-4klQcBDnPG"
      }
    },
    {
      "cell_type": "code",
      "source": [
        "df.tail()"
      ],
      "metadata": {
        "colab": {
          "base_uri": "https://localhost:8080/",
          "height": 206
        },
        "id": "bZTJ7qaxDm4x",
        "outputId": "4636b573-5807-4181-a307-b53fc70beb11"
      },
      "execution_count": 7,
      "outputs": [
        {
          "output_type": "execute_result",
          "data": {
            "text/plain": [
              "      year      state     month  number       date\n",
              "6449  2012  Tocantins  Dezembro   128.0 2012-01-01\n",
              "6450  2013  Tocantins  Dezembro    85.0 2013-01-01\n",
              "6451  2014  Tocantins  Dezembro   223.0 2014-01-01\n",
              "6452  2015  Tocantins  Dezembro   373.0 2015-01-01\n",
              "6453  2016  Tocantins  Dezembro   119.0 2016-01-01"
            ],
            "text/html": [
              "\n",
              "  <div id=\"df-f3739990-f407-47b2-a969-332517128204\">\n",
              "    <div class=\"colab-df-container\">\n",
              "      <div>\n",
              "<style scoped>\n",
              "    .dataframe tbody tr th:only-of-type {\n",
              "        vertical-align: middle;\n",
              "    }\n",
              "\n",
              "    .dataframe tbody tr th {\n",
              "        vertical-align: top;\n",
              "    }\n",
              "\n",
              "    .dataframe thead th {\n",
              "        text-align: right;\n",
              "    }\n",
              "</style>\n",
              "<table border=\"1\" class=\"dataframe\">\n",
              "  <thead>\n",
              "    <tr style=\"text-align: right;\">\n",
              "      <th></th>\n",
              "      <th>year</th>\n",
              "      <th>state</th>\n",
              "      <th>month</th>\n",
              "      <th>number</th>\n",
              "      <th>date</th>\n",
              "    </tr>\n",
              "  </thead>\n",
              "  <tbody>\n",
              "    <tr>\n",
              "      <th>6449</th>\n",
              "      <td>2012</td>\n",
              "      <td>Tocantins</td>\n",
              "      <td>Dezembro</td>\n",
              "      <td>128.0</td>\n",
              "      <td>2012-01-01</td>\n",
              "    </tr>\n",
              "    <tr>\n",
              "      <th>6450</th>\n",
              "      <td>2013</td>\n",
              "      <td>Tocantins</td>\n",
              "      <td>Dezembro</td>\n",
              "      <td>85.0</td>\n",
              "      <td>2013-01-01</td>\n",
              "    </tr>\n",
              "    <tr>\n",
              "      <th>6451</th>\n",
              "      <td>2014</td>\n",
              "      <td>Tocantins</td>\n",
              "      <td>Dezembro</td>\n",
              "      <td>223.0</td>\n",
              "      <td>2014-01-01</td>\n",
              "    </tr>\n",
              "    <tr>\n",
              "      <th>6452</th>\n",
              "      <td>2015</td>\n",
              "      <td>Tocantins</td>\n",
              "      <td>Dezembro</td>\n",
              "      <td>373.0</td>\n",
              "      <td>2015-01-01</td>\n",
              "    </tr>\n",
              "    <tr>\n",
              "      <th>6453</th>\n",
              "      <td>2016</td>\n",
              "      <td>Tocantins</td>\n",
              "      <td>Dezembro</td>\n",
              "      <td>119.0</td>\n",
              "      <td>2016-01-01</td>\n",
              "    </tr>\n",
              "  </tbody>\n",
              "</table>\n",
              "</div>\n",
              "      <button class=\"colab-df-convert\" onclick=\"convertToInteractive('df-f3739990-f407-47b2-a969-332517128204')\"\n",
              "              title=\"Convert this dataframe to an interactive table.\"\n",
              "              style=\"display:none;\">\n",
              "        \n",
              "  <svg xmlns=\"http://www.w3.org/2000/svg\" height=\"24px\"viewBox=\"0 0 24 24\"\n",
              "       width=\"24px\">\n",
              "    <path d=\"M0 0h24v24H0V0z\" fill=\"none\"/>\n",
              "    <path d=\"M18.56 5.44l.94 2.06.94-2.06 2.06-.94-2.06-.94-.94-2.06-.94 2.06-2.06.94zm-11 1L8.5 8.5l.94-2.06 2.06-.94-2.06-.94L8.5 2.5l-.94 2.06-2.06.94zm10 10l.94 2.06.94-2.06 2.06-.94-2.06-.94-.94-2.06-.94 2.06-2.06.94z\"/><path d=\"M17.41 7.96l-1.37-1.37c-.4-.4-.92-.59-1.43-.59-.52 0-1.04.2-1.43.59L10.3 9.45l-7.72 7.72c-.78.78-.78 2.05 0 2.83L4 21.41c.39.39.9.59 1.41.59.51 0 1.02-.2 1.41-.59l7.78-7.78 2.81-2.81c.8-.78.8-2.07 0-2.86zM5.41 20L4 18.59l7.72-7.72 1.47 1.35L5.41 20z\"/>\n",
              "  </svg>\n",
              "      </button>\n",
              "      \n",
              "  <style>\n",
              "    .colab-df-container {\n",
              "      display:flex;\n",
              "      flex-wrap:wrap;\n",
              "      gap: 12px;\n",
              "    }\n",
              "\n",
              "    .colab-df-convert {\n",
              "      background-color: #E8F0FE;\n",
              "      border: none;\n",
              "      border-radius: 50%;\n",
              "      cursor: pointer;\n",
              "      display: none;\n",
              "      fill: #1967D2;\n",
              "      height: 32px;\n",
              "      padding: 0 0 0 0;\n",
              "      width: 32px;\n",
              "    }\n",
              "\n",
              "    .colab-df-convert:hover {\n",
              "      background-color: #E2EBFA;\n",
              "      box-shadow: 0px 1px 2px rgba(60, 64, 67, 0.3), 0px 1px 3px 1px rgba(60, 64, 67, 0.15);\n",
              "      fill: #174EA6;\n",
              "    }\n",
              "\n",
              "    [theme=dark] .colab-df-convert {\n",
              "      background-color: #3B4455;\n",
              "      fill: #D2E3FC;\n",
              "    }\n",
              "\n",
              "    [theme=dark] .colab-df-convert:hover {\n",
              "      background-color: #434B5C;\n",
              "      box-shadow: 0px 1px 3px 1px rgba(0, 0, 0, 0.15);\n",
              "      filter: drop-shadow(0px 1px 2px rgba(0, 0, 0, 0.3));\n",
              "      fill: #FFFFFF;\n",
              "    }\n",
              "  </style>\n",
              "\n",
              "      <script>\n",
              "        const buttonEl =\n",
              "          document.querySelector('#df-f3739990-f407-47b2-a969-332517128204 button.colab-df-convert');\n",
              "        buttonEl.style.display =\n",
              "          google.colab.kernel.accessAllowed ? 'block' : 'none';\n",
              "\n",
              "        async function convertToInteractive(key) {\n",
              "          const element = document.querySelector('#df-f3739990-f407-47b2-a969-332517128204');\n",
              "          const dataTable =\n",
              "            await google.colab.kernel.invokeFunction('convertToInteractive',\n",
              "                                                     [key], {});\n",
              "          if (!dataTable) return;\n",
              "\n",
              "          const docLinkHtml = 'Like what you see? Visit the ' +\n",
              "            '<a target=\"_blank\" href=https://colab.research.google.com/notebooks/data_table.ipynb>data table notebook</a>'\n",
              "            + ' to learn more about interactive tables.';\n",
              "          element.innerHTML = '';\n",
              "          dataTable['output_type'] = 'display_data';\n",
              "          await google.colab.output.renderOutput(dataTable, element);\n",
              "          const docLink = document.createElement('div');\n",
              "          docLink.innerHTML = docLinkHtml;\n",
              "          element.appendChild(docLink);\n",
              "        }\n",
              "      </script>\n",
              "    </div>\n",
              "  </div>\n",
              "  "
            ]
          },
          "metadata": {},
          "execution_count": 7
        }
      ]
    },
    {
      "cell_type": "markdown",
      "source": [
        "6. Find shape of our dataset (number of rows and number of columns).\n"
      ],
      "metadata": {
        "id": "T79qrv2qFgH5"
      }
    },
    {
      "cell_type": "code",
      "source": [
        "print(\"Total Number of Rows in Dataset: \", len(df))\n",
        "print(\"Total Number of Columns in Dataset: \", len(df.columns))"
      ],
      "metadata": {
        "colab": {
          "base_uri": "https://localhost:8080/"
        },
        "id": "4FGTJTbtFfht",
        "outputId": "95f68861-64d0-4bb6-d726-bb53fd8aa552"
      },
      "execution_count": 8,
      "outputs": [
        {
          "output_type": "stream",
          "name": "stdout",
          "text": [
            "Total Number of Rows in Dataset:  6454\n",
            "Total Number of Columns in Dataset:  5\n"
          ]
        }
      ]
    },
    {
      "cell_type": "markdown",
      "source": [
        "7. Getting information about our dataset like total number rows, total number of columns,\n",
        "datatypes of each column and memory requirement."
      ],
      "metadata": {
        "id": "Ec7jNwpPF0iA"
      }
    },
    {
      "cell_type": "code",
      "source": [
        "df.info()"
      ],
      "metadata": {
        "colab": {
          "base_uri": "https://localhost:8080/"
        },
        "id": "48qvUsVTFzdf",
        "outputId": "d484af70-b4bd-4f86-ac70-f47f82303867"
      },
      "execution_count": 9,
      "outputs": [
        {
          "output_type": "stream",
          "name": "stdout",
          "text": [
            "<class 'pandas.core.frame.DataFrame'>\n",
            "RangeIndex: 6454 entries, 0 to 6453\n",
            "Data columns (total 5 columns):\n",
            " #   Column  Non-Null Count  Dtype         \n",
            "---  ------  --------------  -----         \n",
            " 0   year    6454 non-null   int64         \n",
            " 1   state   6454 non-null   object        \n",
            " 2   month   6454 non-null   object        \n",
            " 3   number  6454 non-null   float64       \n",
            " 4   date    6454 non-null   datetime64[ns]\n",
            "dtypes: datetime64[ns](1), float64(1), int64(1), object(2)\n",
            "memory usage: 252.2+ KB\n"
          ]
        }
      ]
    },
    {
      "cell_type": "markdown",
      "source": [
        "8. Check for duplicate data and drop them."
      ],
      "metadata": {
        "id": "U3Vb8e0WgEDB"
      }
    },
    {
      "cell_type": "code",
      "source": [
        "print(\"Percentage of duplicated data/rows within dataset: \", df.duplicated().sum() * 100 / len(df))"
      ],
      "metadata": {
        "colab": {
          "base_uri": "https://localhost:8080/"
        },
        "id": "YjANZcVrL1eA",
        "outputId": "9c4af78c-c335-4668-b7e3-d52d959748e8"
      },
      "execution_count": 10,
      "outputs": [
        {
          "output_type": "stream",
          "name": "stdout",
          "text": [
            "Percentage of duplicated data/rows within dataset:  0.4958165478772854\n"
          ]
        }
      ]
    },
    {
      "cell_type": "code",
      "source": [
        "# Drop all duplicates in the DataFrame\n",
        "df = df.drop_duplicates()"
      ],
      "metadata": {
        "id": "ffFS_HVJ0-vW"
      },
      "execution_count": 11,
      "outputs": []
    },
    {
      "cell_type": "code",
      "source": [
        "print(\"Percentage of duplicated data/rows within dataset: \", df.duplicated().sum() * 100 / len(df))"
      ],
      "metadata": {
        "colab": {
          "base_uri": "https://localhost:8080/"
        },
        "id": "WU71Un6K1HeH",
        "outputId": "73ae3903-1e27-4742-eb42-91a65b8e230c"
      },
      "execution_count": 12,
      "outputs": [
        {
          "output_type": "stream",
          "name": "stdout",
          "text": [
            "Percentage of duplicated data/rows within dataset:  0.0\n"
          ]
        }
      ]
    },
    {
      "cell_type": "code",
      "source": [
        "print(\"Total Number of Rows in Dataset: \", len(df))"
      ],
      "metadata": {
        "colab": {
          "base_uri": "https://localhost:8080/"
        },
        "id": "5ELU_L5_0WZj",
        "outputId": "0a60900d-b845-4cb4-d325-532b57179b7e"
      },
      "execution_count": 13,
      "outputs": [
        {
          "output_type": "stream",
          "name": "stdout",
          "text": [
            "Total Number of Rows in Dataset:  6422\n"
          ]
        }
      ]
    },
    {
      "cell_type": "markdown",
      "source": [
        "only 32 rows were duplicates."
      ],
      "metadata": {
        "id": "y9Oaur0b1wpR"
      }
    },
    {
      "cell_type": "markdown",
      "source": [
        "9. Check null values in the dataset."
      ],
      "metadata": {
        "id": "WGDchC7Elt2u"
      }
    },
    {
      "cell_type": "code",
      "source": [
        "print(\"Percentage of Missing data within dataset: \\n\", df.isnull().sum() * 100 / len(df))"
      ],
      "metadata": {
        "colab": {
          "base_uri": "https://localhost:8080/"
        },
        "id": "f8_Cu3VQgEzD",
        "outputId": "d8304663-2de7-4d24-b835-f0cbf76f5972"
      },
      "execution_count": 14,
      "outputs": [
        {
          "output_type": "stream",
          "name": "stdout",
          "text": [
            "Percentage of Missing data within dataset: \n",
            " year      0.0\n",
            "state     0.0\n",
            "month     0.0\n",
            "number    0.0\n",
            "date      0.0\n",
            "dtype: float64\n"
          ]
        }
      ]
    },
    {
      "cell_type": "markdown",
      "source": [
        "pandas profile reports the same, no duplicates in dataset."
      ],
      "metadata": {
        "id": "QFkHMqa2lzTk"
      }
    },
    {
      "cell_type": "code",
      "source": [
        "for (columnName, columnData) in df.iteritems():\n",
        "    print('Does Column have Null, N/A, NAN values', columnName, \"True or False?: \",df[columnName].isnull().values.any())"
      ],
      "metadata": {
        "colab": {
          "base_uri": "https://localhost:8080/"
        },
        "id": "RojPPzklmHJi",
        "outputId": "a2b53b5b-6853-4086-b180-44610504c51d"
      },
      "execution_count": 15,
      "outputs": [
        {
          "output_type": "stream",
          "name": "stdout",
          "text": [
            "Does Column have Null, N/A, NAN values year True or False?:  False\n",
            "Does Column have Null, N/A, NAN values state True or False?:  False\n",
            "Does Column have Null, N/A, NAN values month True or False?:  False\n",
            "Does Column have Null, N/A, NAN values number True or False?:  False\n",
            "Does Column have Null, N/A, NAN values date True or False?:  False\n"
          ]
        }
      ]
    },
    {
      "cell_type": "markdown",
      "source": [
        "10. Get overall statistics about the data frame.\n",
        "\n",
        "This has been done in pandas profile. Please refer to other notebook in data project 6 folder > python notebooks > pandas profile notebook."
      ],
      "metadata": {
        "id": "_wPK9UshmIbu"
      }
    },
    {
      "cell_type": "markdown",
      "source": [
        "11. Rename month names to english."
      ],
      "metadata": {
        "id": "ngF2aouMpmOh"
      }
    },
    {
      "cell_type": "code",
      "source": [
        "# Group Rows on 'month' column and get List for 'month' column\n",
        "df2 = df.groupby('month')['month'].apply(list)\n",
        "print(df2)"
      ],
      "metadata": {
        "colab": {
          "base_uri": "https://localhost:8080/"
        },
        "id": "XrsEvNL-6v1v",
        "outputId": "6daf47c7-b77d-4eec-d671-b8a9bc2fccc6"
      },
      "execution_count": 16,
      "outputs": [
        {
          "output_type": "stream",
          "name": "stdout",
          "text": [
            "month\n",
            "Abril        [Abril, Abril, Abril, Abril, Abril, Abril, Abr...\n",
            "Agosto       [Agosto, Agosto, Agosto, Agosto, Agosto, Agost...\n",
            "Dezembro     [Dezembro, Dezembro, Dezembro, Dezembro, Dezem...\n",
            "Fevereiro    [Fevereiro, Fevereiro, Fevereiro, Fevereiro, F...\n",
            "Janeiro      [Janeiro, Janeiro, Janeiro, Janeiro, Janeiro, ...\n",
            "Julho        [Julho, Julho, Julho, Julho, Julho, Julho, Jul...\n",
            "Junho        [Junho, Junho, Junho, Junho, Junho, Junho, Jun...\n",
            "Maio         [Maio, Maio, Maio, Maio, Maio, Maio, Maio, Mai...\n",
            "Mar�o        [Mar�o, Mar�o, Mar�o, Mar�o, Mar�o, Mar�o, Mar...\n",
            "Novembro     [Novembro, Novembro, Novembro, Novembro, Novem...\n",
            "Outubro      [Outubro, Outubro, Outubro, Outubro, Outubro, ...\n",
            "Setembro     [Setembro, Setembro, Setembro, Setembro, Setem...\n",
            "Name: month, dtype: object\n"
          ]
        }
      ]
    },
    {
      "cell_type": "code",
      "source": [
        "#loop through and change value based on if condition.\n",
        "#assuming \"Mar�o\"(Marcho) is March.\n",
        "for idx, row in df.iterrows():\n",
        "    if  df.loc[idx,'month'] == 'Abril':\n",
        "        df.loc[idx,'month'] = 'April'\n",
        "    if  df.loc[idx,'month'] == 'Agosto':\n",
        "        df.loc[idx,'month'] = 'August'\n",
        "    if  df.loc[idx,'month'] == 'Dezembro':\n",
        "        df.loc[idx,'month'] = 'December'\n",
        "    if  df.loc[idx,'month'] == 'Fevereiro':\n",
        "        df.loc[idx,'month'] = 'Febuary'\n",
        "    if  df.loc[idx,'month'] == 'Janeiro':\n",
        "        df.loc[idx,'month'] = 'January'\n",
        "    if  df.loc[idx,'month'] == 'Julho':\n",
        "        df.loc[idx,'month'] = 'July'\n",
        "    if  df.loc[idx,'month'] == 'Junho':\n",
        "        df.loc[idx,'month'] = 'June'\n",
        "    if  df.loc[idx,'month'] == 'Maio':\n",
        "        df.loc[idx,'month'] = 'May'\n",
        "    if  df.loc[idx,'month'] == 'Mar�o':\n",
        "        df.loc[idx,'month'] = 'March'\n",
        "    if  df.loc[idx,'month'] == 'Novembro':\n",
        "        df.loc[idx,'month'] = 'November'\n",
        "    if  df.loc[idx,'month'] == 'Outubro':\n",
        "        df.loc[idx,'month'] = 'October'\n",
        "    if  df.loc[idx,'month'] == 'Setembro':\n",
        "        df.loc[idx,'month'] = 'September'\n",
        "    "
      ],
      "metadata": {
        "id": "IpZXMsyn6RJ5"
      },
      "execution_count": 17,
      "outputs": []
    },
    {
      "cell_type": "code",
      "source": [
        "# confirm changes to value in month column\n",
        "df3 = df.groupby('month')['month'].apply(list)\n",
        "print(df3)"
      ],
      "metadata": {
        "colab": {
          "base_uri": "https://localhost:8080/"
        },
        "id": "6MSDu6ZJ-JzZ",
        "outputId": "914b9ad6-8472-48cd-adba-fc0d7bc2a732"
      },
      "execution_count": 18,
      "outputs": [
        {
          "output_type": "stream",
          "name": "stdout",
          "text": [
            "month\n",
            "April        [April, April, April, April, April, April, Apr...\n",
            "August       [August, August, August, August, August, Augus...\n",
            "December     [December, December, December, December, Decem...\n",
            "Febuary      [Febuary, Febuary, Febuary, Febuary, Febuary, ...\n",
            "January      [January, January, January, January, January, ...\n",
            "July         [July, July, July, July, July, July, July, Jul...\n",
            "June         [June, June, June, June, June, June, June, Jun...\n",
            "March        [March, March, March, March, March, March, Mar...\n",
            "May          [May, May, May, May, May, May, May, May, May, ...\n",
            "November     [November, November, November, November, Novem...\n",
            "October      [October, October, October, October, October, ...\n",
            "September    [September, September, September, September, S...\n",
            "Name: month, dtype: object\n"
          ]
        }
      ]
    },
    {
      "cell_type": "markdown",
      "source": [
        "changes made to number column:"
      ],
      "metadata": {
        "id": "XgnhxozmHs2F"
      }
    },
    {
      "cell_type": "markdown",
      "source": [
        "rename column"
      ],
      "metadata": {
        "id": "65x1naCkHDXu"
      }
    },
    {
      "cell_type": "code",
      "source": [
        "df.rename(columns={'number': 'number_of_registered_fires'}, inplace=True)"
      ],
      "metadata": {
        "id": "CU4xhVcHHF5s"
      },
      "execution_count": 20,
      "outputs": []
    },
    {
      "cell_type": "code",
      "source": [
        "df.head(10)"
      ],
      "metadata": {
        "colab": {
          "base_uri": "https://localhost:8080/",
          "height": 363
        },
        "id": "btcC22KCGhr5",
        "outputId": "6f653da3-1d41-4530-dd0f-6306b2b8c563"
      },
      "execution_count": 21,
      "outputs": [
        {
          "output_type": "execute_result",
          "data": {
            "text/plain": [
              "   year state    month  number_of_registered_fires       date\n",
              "0  1998  Acre  January                         0.0 1998-01-01\n",
              "1  1999  Acre  January                         0.0 1999-01-01\n",
              "2  2000  Acre  January                         0.0 2000-01-01\n",
              "3  2001  Acre  January                         0.0 2001-01-01\n",
              "4  2002  Acre  January                         0.0 2002-01-01\n",
              "5  2003  Acre  January                        10.0 2003-01-01\n",
              "6  2004  Acre  January                         0.0 2004-01-01\n",
              "7  2005  Acre  January                        12.0 2005-01-01\n",
              "8  2006  Acre  January                         4.0 2006-01-01\n",
              "9  2007  Acre  January                         0.0 2007-01-01"
            ],
            "text/html": [
              "\n",
              "  <div id=\"df-deb8e090-5256-449a-8ff4-a6fbed0a8363\">\n",
              "    <div class=\"colab-df-container\">\n",
              "      <div>\n",
              "<style scoped>\n",
              "    .dataframe tbody tr th:only-of-type {\n",
              "        vertical-align: middle;\n",
              "    }\n",
              "\n",
              "    .dataframe tbody tr th {\n",
              "        vertical-align: top;\n",
              "    }\n",
              "\n",
              "    .dataframe thead th {\n",
              "        text-align: right;\n",
              "    }\n",
              "</style>\n",
              "<table border=\"1\" class=\"dataframe\">\n",
              "  <thead>\n",
              "    <tr style=\"text-align: right;\">\n",
              "      <th></th>\n",
              "      <th>year</th>\n",
              "      <th>state</th>\n",
              "      <th>month</th>\n",
              "      <th>number_of_registered_fires</th>\n",
              "      <th>date</th>\n",
              "    </tr>\n",
              "  </thead>\n",
              "  <tbody>\n",
              "    <tr>\n",
              "      <th>0</th>\n",
              "      <td>1998</td>\n",
              "      <td>Acre</td>\n",
              "      <td>January</td>\n",
              "      <td>0.0</td>\n",
              "      <td>1998-01-01</td>\n",
              "    </tr>\n",
              "    <tr>\n",
              "      <th>1</th>\n",
              "      <td>1999</td>\n",
              "      <td>Acre</td>\n",
              "      <td>January</td>\n",
              "      <td>0.0</td>\n",
              "      <td>1999-01-01</td>\n",
              "    </tr>\n",
              "    <tr>\n",
              "      <th>2</th>\n",
              "      <td>2000</td>\n",
              "      <td>Acre</td>\n",
              "      <td>January</td>\n",
              "      <td>0.0</td>\n",
              "      <td>2000-01-01</td>\n",
              "    </tr>\n",
              "    <tr>\n",
              "      <th>3</th>\n",
              "      <td>2001</td>\n",
              "      <td>Acre</td>\n",
              "      <td>January</td>\n",
              "      <td>0.0</td>\n",
              "      <td>2001-01-01</td>\n",
              "    </tr>\n",
              "    <tr>\n",
              "      <th>4</th>\n",
              "      <td>2002</td>\n",
              "      <td>Acre</td>\n",
              "      <td>January</td>\n",
              "      <td>0.0</td>\n",
              "      <td>2002-01-01</td>\n",
              "    </tr>\n",
              "    <tr>\n",
              "      <th>5</th>\n",
              "      <td>2003</td>\n",
              "      <td>Acre</td>\n",
              "      <td>January</td>\n",
              "      <td>10.0</td>\n",
              "      <td>2003-01-01</td>\n",
              "    </tr>\n",
              "    <tr>\n",
              "      <th>6</th>\n",
              "      <td>2004</td>\n",
              "      <td>Acre</td>\n",
              "      <td>January</td>\n",
              "      <td>0.0</td>\n",
              "      <td>2004-01-01</td>\n",
              "    </tr>\n",
              "    <tr>\n",
              "      <th>7</th>\n",
              "      <td>2005</td>\n",
              "      <td>Acre</td>\n",
              "      <td>January</td>\n",
              "      <td>12.0</td>\n",
              "      <td>2005-01-01</td>\n",
              "    </tr>\n",
              "    <tr>\n",
              "      <th>8</th>\n",
              "      <td>2006</td>\n",
              "      <td>Acre</td>\n",
              "      <td>January</td>\n",
              "      <td>4.0</td>\n",
              "      <td>2006-01-01</td>\n",
              "    </tr>\n",
              "    <tr>\n",
              "      <th>9</th>\n",
              "      <td>2007</td>\n",
              "      <td>Acre</td>\n",
              "      <td>January</td>\n",
              "      <td>0.0</td>\n",
              "      <td>2007-01-01</td>\n",
              "    </tr>\n",
              "  </tbody>\n",
              "</table>\n",
              "</div>\n",
              "      <button class=\"colab-df-convert\" onclick=\"convertToInteractive('df-deb8e090-5256-449a-8ff4-a6fbed0a8363')\"\n",
              "              title=\"Convert this dataframe to an interactive table.\"\n",
              "              style=\"display:none;\">\n",
              "        \n",
              "  <svg xmlns=\"http://www.w3.org/2000/svg\" height=\"24px\"viewBox=\"0 0 24 24\"\n",
              "       width=\"24px\">\n",
              "    <path d=\"M0 0h24v24H0V0z\" fill=\"none\"/>\n",
              "    <path d=\"M18.56 5.44l.94 2.06.94-2.06 2.06-.94-2.06-.94-.94-2.06-.94 2.06-2.06.94zm-11 1L8.5 8.5l.94-2.06 2.06-.94-2.06-.94L8.5 2.5l-.94 2.06-2.06.94zm10 10l.94 2.06.94-2.06 2.06-.94-2.06-.94-.94-2.06-.94 2.06-2.06.94z\"/><path d=\"M17.41 7.96l-1.37-1.37c-.4-.4-.92-.59-1.43-.59-.52 0-1.04.2-1.43.59L10.3 9.45l-7.72 7.72c-.78.78-.78 2.05 0 2.83L4 21.41c.39.39.9.59 1.41.59.51 0 1.02-.2 1.41-.59l7.78-7.78 2.81-2.81c.8-.78.8-2.07 0-2.86zM5.41 20L4 18.59l7.72-7.72 1.47 1.35L5.41 20z\"/>\n",
              "  </svg>\n",
              "      </button>\n",
              "      \n",
              "  <style>\n",
              "    .colab-df-container {\n",
              "      display:flex;\n",
              "      flex-wrap:wrap;\n",
              "      gap: 12px;\n",
              "    }\n",
              "\n",
              "    .colab-df-convert {\n",
              "      background-color: #E8F0FE;\n",
              "      border: none;\n",
              "      border-radius: 50%;\n",
              "      cursor: pointer;\n",
              "      display: none;\n",
              "      fill: #1967D2;\n",
              "      height: 32px;\n",
              "      padding: 0 0 0 0;\n",
              "      width: 32px;\n",
              "    }\n",
              "\n",
              "    .colab-df-convert:hover {\n",
              "      background-color: #E2EBFA;\n",
              "      box-shadow: 0px 1px 2px rgba(60, 64, 67, 0.3), 0px 1px 3px 1px rgba(60, 64, 67, 0.15);\n",
              "      fill: #174EA6;\n",
              "    }\n",
              "\n",
              "    [theme=dark] .colab-df-convert {\n",
              "      background-color: #3B4455;\n",
              "      fill: #D2E3FC;\n",
              "    }\n",
              "\n",
              "    [theme=dark] .colab-df-convert:hover {\n",
              "      background-color: #434B5C;\n",
              "      box-shadow: 0px 1px 3px 1px rgba(0, 0, 0, 0.15);\n",
              "      filter: drop-shadow(0px 1px 2px rgba(0, 0, 0, 0.3));\n",
              "      fill: #FFFFFF;\n",
              "    }\n",
              "  </style>\n",
              "\n",
              "      <script>\n",
              "        const buttonEl =\n",
              "          document.querySelector('#df-deb8e090-5256-449a-8ff4-a6fbed0a8363 button.colab-df-convert');\n",
              "        buttonEl.style.display =\n",
              "          google.colab.kernel.accessAllowed ? 'block' : 'none';\n",
              "\n",
              "        async function convertToInteractive(key) {\n",
              "          const element = document.querySelector('#df-deb8e090-5256-449a-8ff4-a6fbed0a8363');\n",
              "          const dataTable =\n",
              "            await google.colab.kernel.invokeFunction('convertToInteractive',\n",
              "                                                     [key], {});\n",
              "          if (!dataTable) return;\n",
              "\n",
              "          const docLinkHtml = 'Like what you see? Visit the ' +\n",
              "            '<a target=\"_blank\" href=https://colab.research.google.com/notebooks/data_table.ipynb>data table notebook</a>'\n",
              "            + ' to learn more about interactive tables.';\n",
              "          element.innerHTML = '';\n",
              "          dataTable['output_type'] = 'display_data';\n",
              "          await google.colab.output.renderOutput(dataTable, element);\n",
              "          const docLink = document.createElement('div');\n",
              "          docLink.innerHTML = docLinkHtml;\n",
              "          element.appendChild(docLink);\n",
              "        }\n",
              "      </script>\n",
              "    </div>\n",
              "  </div>\n",
              "  "
            ]
          },
          "metadata": {},
          "execution_count": 21
        }
      ]
    },
    {
      "cell_type": "markdown",
      "source": [
        "Export Cleaned to data to csv format"
      ],
      "metadata": {
        "id": "58pmHRAbOb9E"
      }
    },
    {
      "cell_type": "code",
      "source": [
        "df.to_csv('amazon_cleaned_number_col_not_converted.csv')"
      ],
      "metadata": {
        "id": "z6bN4cURObqn"
      },
      "execution_count": 22,
      "outputs": []
    }
  ]
}